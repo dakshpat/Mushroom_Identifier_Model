{
 "cells": [
  {
   "cell_type": "code",
   "execution_count": 2,
   "metadata": {},
   "outputs": [
    {
     "data": {
      "text/html": [
       "<div>\n",
       "<style scoped>\n",
       "    .dataframe tbody tr th:only-of-type {\n",
       "        vertical-align: middle;\n",
       "    }\n",
       "\n",
       "    .dataframe tbody tr th {\n",
       "        vertical-align: top;\n",
       "    }\n",
       "\n",
       "    .dataframe thead th {\n",
       "        text-align: right;\n",
       "    }\n",
       "</style>\n",
       "<table border=\"1\" class=\"dataframe\">\n",
       "  <thead>\n",
       "    <tr style=\"text-align: right;\">\n",
       "      <th></th>\n",
       "      <th>class</th>\n",
       "      <th>cap-shape</th>\n",
       "      <th>cap-surface</th>\n",
       "      <th>cap-color</th>\n",
       "      <th>bruises?</th>\n",
       "      <th>odor</th>\n",
       "      <th>gill-attachment</th>\n",
       "      <th>gill-spacing</th>\n",
       "      <th>gill-size</th>\n",
       "      <th>gill-color</th>\n",
       "      <th>...</th>\n",
       "      <th>stalk-surface-below-ring</th>\n",
       "      <th>stalk-color-above-ring</th>\n",
       "      <th>stalk-color-below-ring</th>\n",
       "      <th>veil-type</th>\n",
       "      <th>veil-color</th>\n",
       "      <th>ring-number</th>\n",
       "      <th>ring-type</th>\n",
       "      <th>spore-print-color</th>\n",
       "      <th>population</th>\n",
       "      <th>habitat</th>\n",
       "    </tr>\n",
       "  </thead>\n",
       "  <tbody>\n",
       "    <tr>\n",
       "      <th>0</th>\n",
       "      <td>p</td>\n",
       "      <td>x</td>\n",
       "      <td>s</td>\n",
       "      <td>n</td>\n",
       "      <td>t</td>\n",
       "      <td>p</td>\n",
       "      <td>f</td>\n",
       "      <td>c</td>\n",
       "      <td>n</td>\n",
       "      <td>k</td>\n",
       "      <td>...</td>\n",
       "      <td>s</td>\n",
       "      <td>w</td>\n",
       "      <td>w</td>\n",
       "      <td>p</td>\n",
       "      <td>w</td>\n",
       "      <td>o</td>\n",
       "      <td>p</td>\n",
       "      <td>k</td>\n",
       "      <td>s</td>\n",
       "      <td>u</td>\n",
       "    </tr>\n",
       "    <tr>\n",
       "      <th>1</th>\n",
       "      <td>e</td>\n",
       "      <td>x</td>\n",
       "      <td>s</td>\n",
       "      <td>y</td>\n",
       "      <td>t</td>\n",
       "      <td>a</td>\n",
       "      <td>f</td>\n",
       "      <td>c</td>\n",
       "      <td>b</td>\n",
       "      <td>k</td>\n",
       "      <td>...</td>\n",
       "      <td>s</td>\n",
       "      <td>w</td>\n",
       "      <td>w</td>\n",
       "      <td>p</td>\n",
       "      <td>w</td>\n",
       "      <td>o</td>\n",
       "      <td>p</td>\n",
       "      <td>n</td>\n",
       "      <td>n</td>\n",
       "      <td>g</td>\n",
       "    </tr>\n",
       "    <tr>\n",
       "      <th>2</th>\n",
       "      <td>e</td>\n",
       "      <td>b</td>\n",
       "      <td>s</td>\n",
       "      <td>w</td>\n",
       "      <td>t</td>\n",
       "      <td>l</td>\n",
       "      <td>f</td>\n",
       "      <td>c</td>\n",
       "      <td>b</td>\n",
       "      <td>n</td>\n",
       "      <td>...</td>\n",
       "      <td>s</td>\n",
       "      <td>w</td>\n",
       "      <td>w</td>\n",
       "      <td>p</td>\n",
       "      <td>w</td>\n",
       "      <td>o</td>\n",
       "      <td>p</td>\n",
       "      <td>n</td>\n",
       "      <td>n</td>\n",
       "      <td>m</td>\n",
       "    </tr>\n",
       "    <tr>\n",
       "      <th>3</th>\n",
       "      <td>p</td>\n",
       "      <td>x</td>\n",
       "      <td>y</td>\n",
       "      <td>w</td>\n",
       "      <td>t</td>\n",
       "      <td>p</td>\n",
       "      <td>f</td>\n",
       "      <td>c</td>\n",
       "      <td>n</td>\n",
       "      <td>n</td>\n",
       "      <td>...</td>\n",
       "      <td>s</td>\n",
       "      <td>w</td>\n",
       "      <td>w</td>\n",
       "      <td>p</td>\n",
       "      <td>w</td>\n",
       "      <td>o</td>\n",
       "      <td>p</td>\n",
       "      <td>k</td>\n",
       "      <td>s</td>\n",
       "      <td>u</td>\n",
       "    </tr>\n",
       "    <tr>\n",
       "      <th>4</th>\n",
       "      <td>e</td>\n",
       "      <td>x</td>\n",
       "      <td>s</td>\n",
       "      <td>g</td>\n",
       "      <td>f</td>\n",
       "      <td>n</td>\n",
       "      <td>f</td>\n",
       "      <td>w</td>\n",
       "      <td>b</td>\n",
       "      <td>k</td>\n",
       "      <td>...</td>\n",
       "      <td>s</td>\n",
       "      <td>w</td>\n",
       "      <td>w</td>\n",
       "      <td>p</td>\n",
       "      <td>w</td>\n",
       "      <td>o</td>\n",
       "      <td>e</td>\n",
       "      <td>n</td>\n",
       "      <td>a</td>\n",
       "      <td>g</td>\n",
       "    </tr>\n",
       "  </tbody>\n",
       "</table>\n",
       "<p>5 rows × 23 columns</p>\n",
       "</div>"
      ],
      "text/plain": [
       "  class cap-shape cap-surface cap-color bruises? odor gill-attachment  \\\n",
       "0     p         x           s         n        t    p               f   \n",
       "1     e         x           s         y        t    a               f   \n",
       "2     e         b           s         w        t    l               f   \n",
       "3     p         x           y         w        t    p               f   \n",
       "4     e         x           s         g        f    n               f   \n",
       "\n",
       "  gill-spacing gill-size gill-color  ... stalk-surface-below-ring  \\\n",
       "0            c         n          k  ...                        s   \n",
       "1            c         b          k  ...                        s   \n",
       "2            c         b          n  ...                        s   \n",
       "3            c         n          n  ...                        s   \n",
       "4            w         b          k  ...                        s   \n",
       "\n",
       "  stalk-color-above-ring stalk-color-below-ring veil-type veil-color  \\\n",
       "0                      w                      w         p          w   \n",
       "1                      w                      w         p          w   \n",
       "2                      w                      w         p          w   \n",
       "3                      w                      w         p          w   \n",
       "4                      w                      w         p          w   \n",
       "\n",
       "  ring-number ring-type spore-print-color population habitat  \n",
       "0           o         p                 k          s       u  \n",
       "1           o         p                 n          n       g  \n",
       "2           o         p                 n          n       m  \n",
       "3           o         p                 k          s       u  \n",
       "4           o         e                 n          a       g  \n",
       "\n",
       "[5 rows x 23 columns]"
      ]
     },
     "execution_count": 2,
     "metadata": {},
     "output_type": "execute_result"
    }
   ],
   "source": [
    "import pandas as pd\n",
    "\n",
    "# Define the column names based on the attribute information\n",
    "columns = [\n",
    "    \"class\",  # Target column: edible (e) or poisonous (p)\n",
    "    \"cap-shape\",\n",
    "    \"cap-surface\",\n",
    "    \"cap-color\",\n",
    "    \"bruises?\",\n",
    "    \"odor\",\n",
    "    \"gill-attachment\",\n",
    "    \"gill-spacing\",\n",
    "    \"gill-size\",\n",
    "    \"gill-color\",\n",
    "    \"stalk-shape\",\n",
    "    \"stalk-root\",\n",
    "    \"stalk-surface-above-ring\",\n",
    "    \"stalk-surface-below-ring\",\n",
    "    \"stalk-color-above-ring\",\n",
    "    \"stalk-color-below-ring\",\n",
    "    \"veil-type\",\n",
    "    \"veil-color\",\n",
    "    \"ring-number\",\n",
    "    \"ring-type\",\n",
    "    \"spore-print-color\",\n",
    "    \"population\",\n",
    "    \"habitat\",\n",
    "]\n",
    "\n",
    "# Load the dataset and assign column names\n",
    "data = pd.read_csv(\"agaricus-lepiota.csv\", header=None, names=columns)\n",
    "\n",
    "# Display the first few rows of the dataset\n",
    "data.head()"
   ]
  },
  {
   "cell_type": "code",
   "execution_count": 3,
   "metadata": {},
   "outputs": [
    {
     "name": "stdout",
     "output_type": "stream",
     "text": [
      "Training Features Shape: (6499, 22)\n",
      "Training Target Shape: (6499,)\n",
      "Testing Features Shape: (1625, 22)\n",
      "Testing Target Shape: (1625,)\n"
     ]
    }
   ],
   "source": [
    "from sklearn.model_selection import train_test_split\n",
    "\n",
    "# Split the features and target variable\n",
    "x = data.drop(\"class\", axis=1)  # Features (all columns except the target)\n",
    "y = data[\"class\"]              # Target (the 'class' column)\n",
    "\n",
    "# Perform an 80/20 train-test split\n",
    "X_train, X_test, y_train, y_test = train_test_split(x, y, test_size=0.2, random_state=42, stratify=y)\n",
    "\n",
    "# Display the shapes of the resulting splits\n",
    "print(\"Training Features Shape:\", X_train.shape)\n",
    "print(\"Training Target Shape:\", y_train.shape)\n",
    "print(\"Testing Features Shape:\", X_test.shape)\n",
    "print(\"Testing Target Shape:\", y_test.shape)"
   ]
  },
  {
   "cell_type": "code",
   "execution_count": 4,
   "metadata": {},
   "outputs": [
    {
     "name": "stdout",
     "output_type": "stream",
     "text": [
      "Encoded Training Features Shape: (6499, 116)\n",
      "Encoded Testing Features Shape: (1625, 116)\n",
      "Encoded Training Target Shape: (6499,)\n",
      "Encoded Testing Target Shape: (1625,)\n"
     ]
    },
    {
     "name": "stderr",
     "output_type": "stream",
     "text": [
      "c:\\Users\\White Steed\\Anaconda\\envs\\dtsc680\\lib\\site-packages\\sklearn\\preprocessing\\_encoders.py:975: FutureWarning: `sparse` was renamed to `sparse_output` in version 1.2 and will be removed in 1.4. `sparse_output` is ignored unless you leave `sparse` to its default value.\n",
      "  warnings.warn(\n"
     ]
    }
   ],
   "source": [
    "from sklearn.preprocessing import OneHotEncoder, LabelEncoder\n",
    "\n",
    "# One-Hot Encode the features\n",
    "onehot_encoder = OneHotEncoder(sparse=False, handle_unknown='ignore')  # Create the encoder\n",
    "X_train_encoded = onehot_encoder.fit_transform(X_train)               # Fit and transform the training features\n",
    "X_test_encoded = onehot_encoder.transform(X_test)                     # Transform the testing features\n",
    "\n",
    "# Label Encode the responses\n",
    "label_encoder = LabelEncoder()                   # Create the encoder\n",
    "y_train_encoded = label_encoder.fit_transform(y_train)  # Fit and transform the training target\n",
    "y_test_encoded = label_encoder.transform(y_test)        # Transform the testing target\n",
    "\n",
    "\n",
    "# Display the shapes of encoded data\n",
    "print(\"Encoded Training Features Shape:\", X_train_encoded.shape)\n",
    "print(\"Encoded Testing Features Shape:\", X_test_encoded.shape)\n",
    "print(\"Encoded Training Target Shape:\", y_train_encoded.shape)\n",
    "print(\"Encoded Testing Target Shape:\", y_test_encoded.shape)"
   ]
  },
  {
   "cell_type": "code",
   "execution_count": 5,
   "metadata": {},
   "outputs": [
    {
     "name": "stdout",
     "output_type": "stream",
     "text": [
      "Model: \"sequential\"\n",
      "_________________________________________________________________\n",
      " Layer (type)                Output Shape              Param #   \n",
      "=================================================================\n",
      " dense (Dense)               (None, 16)                1872      \n",
      "                                                                 \n",
      " dense_1 (Dense)             (None, 1)                 17        \n",
      "                                                                 \n",
      "=================================================================\n",
      "Total params: 1,889\n",
      "Trainable params: 1,889\n",
      "Non-trainable params: 0\n",
      "_________________________________________________________________\n"
     ]
    }
   ],
   "source": [
    "from tensorflow.keras.models import Sequential\n",
    "from tensorflow.keras.layers import Dense\n",
    "\n",
    "# Define the input dimension (number of features in the encoded data)\n",
    "input_dim = X_train_encoded.shape[1]\n",
    "\n",
    "# Create the sequential model\n",
    "model = Sequential()\n",
    "\n",
    "# Input layer with ReLU activation\n",
    "model.add(Dense(units=16, activation='relu', input_dim=input_dim))\n",
    "\n",
    "# Output layer with sigmoid activation for binary classification\n",
    "model.add(Dense(units=1, activation='sigmoid'))\n",
    "\n",
    "# Compile the model with binary cross-entropy loss and an optimizer\n",
    "model.compile(optimizer='adam', loss='binary_crossentropy', metrics=['accuracy'])\n",
    "\n",
    "# Display the model's architecture\n",
    "model.summary()\n"
   ]
  },
  {
   "cell_type": "code",
   "execution_count": 6,
   "metadata": {},
   "outputs": [
    {
     "name": "stdout",
     "output_type": "stream",
     "text": [
      "Epoch 1/20\n",
      "204/204 [==============================] - 0s 947us/step - loss: 0.2795 - accuracy: 0.9134 - val_loss: 0.0829 - val_accuracy: 0.9846\n",
      "Epoch 2/20\n",
      "204/204 [==============================] - 0s 602us/step - loss: 0.0473 - accuracy: 0.9922 - val_loss: 0.0298 - val_accuracy: 0.9957\n",
      "Epoch 3/20\n",
      "204/204 [==============================] - 0s 589us/step - loss: 0.0194 - accuracy: 0.9982 - val_loss: 0.0155 - val_accuracy: 0.9969\n",
      "Epoch 4/20\n",
      "204/204 [==============================] - 0s 599us/step - loss: 0.0103 - accuracy: 0.9992 - val_loss: 0.0093 - val_accuracy: 0.9982\n",
      "Epoch 5/20\n",
      "204/204 [==============================] - 0s 605us/step - loss: 0.0060 - accuracy: 0.9997 - val_loss: 0.0059 - val_accuracy: 0.9988\n",
      "Epoch 6/20\n",
      "204/204 [==============================] - 0s 599us/step - loss: 0.0039 - accuracy: 1.0000 - val_loss: 0.0044 - val_accuracy: 0.9988\n",
      "Epoch 7/20\n",
      "204/204 [==============================] - 0s 602us/step - loss: 0.0027 - accuracy: 1.0000 - val_loss: 0.0029 - val_accuracy: 1.0000\n",
      "Epoch 8/20\n",
      "204/204 [==============================] - 0s 597us/step - loss: 0.0019 - accuracy: 1.0000 - val_loss: 0.0023 - val_accuracy: 1.0000\n",
      "Epoch 9/20\n",
      "204/204 [==============================] - 0s 593us/step - loss: 0.0015 - accuracy: 1.0000 - val_loss: 0.0017 - val_accuracy: 1.0000\n",
      "Epoch 10/20\n",
      "204/204 [==============================] - 0s 590us/step - loss: 0.0011 - accuracy: 1.0000 - val_loss: 0.0014 - val_accuracy: 1.0000\n",
      "Epoch 11/20\n",
      "204/204 [==============================] - 0s 606us/step - loss: 8.8557e-04 - accuracy: 1.0000 - val_loss: 0.0011 - val_accuracy: 1.0000\n",
      "Epoch 12/20\n",
      "204/204 [==============================] - 0s 583us/step - loss: 7.0073e-04 - accuracy: 1.0000 - val_loss: 8.8129e-04 - val_accuracy: 1.0000\n",
      "Epoch 13/20\n",
      "204/204 [==============================] - 0s 600us/step - loss: 5.7357e-04 - accuracy: 1.0000 - val_loss: 7.4333e-04 - val_accuracy: 1.0000\n",
      "Epoch 14/20\n",
      "204/204 [==============================] - 0s 618us/step - loss: 4.6326e-04 - accuracy: 1.0000 - val_loss: 6.0597e-04 - val_accuracy: 1.0000\n",
      "Epoch 15/20\n",
      "204/204 [==============================] - 0s 591us/step - loss: 3.7807e-04 - accuracy: 1.0000 - val_loss: 5.3528e-04 - val_accuracy: 1.0000\n",
      "Epoch 16/20\n",
      "204/204 [==============================] - 0s 594us/step - loss: 3.1649e-04 - accuracy: 1.0000 - val_loss: 4.3805e-04 - val_accuracy: 1.0000\n",
      "Epoch 17/20\n",
      "204/204 [==============================] - 0s 594us/step - loss: 2.6580e-04 - accuracy: 1.0000 - val_loss: 3.8998e-04 - val_accuracy: 1.0000\n",
      "Epoch 18/20\n",
      "204/204 [==============================] - 0s 592us/step - loss: 2.2338e-04 - accuracy: 1.0000 - val_loss: 3.5995e-04 - val_accuracy: 1.0000\n",
      "Epoch 19/20\n",
      "204/204 [==============================] - 0s 592us/step - loss: 1.9422e-04 - accuracy: 1.0000 - val_loss: 2.7922e-04 - val_accuracy: 1.0000\n",
      "Epoch 20/20\n",
      "204/204 [==============================] - 0s 593us/step - loss: 1.6433e-04 - accuracy: 1.0000 - val_loss: 2.5418e-04 - val_accuracy: 1.0000\n",
      "CPU times: total: 734 ms\n",
      "Wall time: 2.79 s\n"
     ]
    }
   ],
   "source": [
    "%%time\n",
    "\n",
    "# Train the model using the training data\n",
    "history = model.fit(X_train_encoded, y_train_encoded, epochs=20, batch_size=32, validation_data=(X_test_encoded, y_test_encoded))"
   ]
  },
  {
   "cell_type": "code",
   "execution_count": 7,
   "metadata": {},
   "outputs": [
    {
     "name": "stdout",
     "output_type": "stream",
     "text": [
      "51/51 [==============================] - 0s 364us/step\n"
     ]
    },
    {
     "data": {
      "image/png": "[encoded data removed]",
      "text/plain": [
       "<Figure size 640x480 with 2 Axes>"
      ]
     },
     "metadata": {},
     "output_type": "display_data"
    }
   ],
   "source": [
    "import numpy as np\n",
    "from sklearn.metrics import confusion_matrix, ConfusionMatrixDisplay\n",
    "import matplotlib.pyplot as plt\n",
    "\n",
    "# Predict on the test set using the trained model\n",
    "y_pred = (model.predict(X_test_encoded) > 0.5).astype(\"int32\")  # Convert probabilities to binary (0 or 1)\n",
    "\n",
    "# Generate the confusion matrix\n",
    "cm = confusion_matrix(y_test_encoded, y_pred)\n",
    "\n",
    "# Create the confusion matrix display\n",
    "disp = ConfusionMatrixDisplay(confusion_matrix=cm, display_labels=['Edible', 'Poisonous'])\n",
    "\n",
    "# Plot the confusion matrix\n",
    "disp.plot(cmap=plt.cm.Blues)\n",
    "plt.title(\"Confusion Matrix\")\n",
    "plt.show()"
   ]
  },
  {
   "cell_type": "markdown",
   "metadata": {},
   "source": [
    "**Performing PCA:**\n",
    "- Performing PCA will reduce the number of features the model needs to train on"
   ]
  },
  {
   "cell_type": "code",
   "execution_count": 8,
   "metadata": {},
   "outputs": [
    {
     "name": "stdout",
     "output_type": "stream",
     "text": [
      "Original feature count: 116\n",
      "Reduced feature count after PCA: 60\n"
     ]
    }
   ],
   "source": [
    "from sklearn.decomposition import PCA\n",
    "from sklearn.preprocessing import StandardScaler\n",
    "\n",
    "# Standardize the features before applying PCA\n",
    "scaler = StandardScaler()\n",
    "X_train_scaled = scaler.fit_transform(X_train_encoded)\n",
    "X_test_scaled = scaler.transform(X_test_encoded)\n",
    "\n",
    "# Apply PCA to keep 95% of the variance\n",
    "pca = PCA(n_components=0.95)\n",
    "X_train_pca = pca.fit_transform(X_train_scaled)\n",
    "X_test_pca = pca.transform(X_test_scaled)\n",
    "\n",
    "# Print the new shape of the training data after PCA\n",
    "print(f\"Original feature count: {X_train_encoded.shape[1]}\")\n",
    "print(f\"Reduced feature count after PCA: {X_train_pca.shape[1]}\")\n"
   ]
  },
  {
   "cell_type": "markdown",
   "metadata": {},
   "source": [
    "**Creating a new Neural Network**"
   ]
  },
  {
   "cell_type": "code",
   "execution_count": 9,
   "metadata": {},
   "outputs": [],
   "source": [
    "# Define the input dimension (number of PCA components)\n",
    "input_dim_pca = X_train_pca.shape[1]\n",
    "\n",
    "# Create a new sequential model for PCA data\n",
    "pca_model = Sequential()\n",
    "\n",
    "# Input layer with ReLU activation\n",
    "pca_model.add(Dense(units=16, activation='relu', input_dim=input_dim_pca))\n",
    "\n",
    "# Output layer with sigmoid activation for binary classification\n",
    "pca_model.add(Dense(units=1, activation='sigmoid'))\n",
    "\n",
    "# Compile the model\n",
    "pca_model.compile(optimizer='adam', loss='binary_crossentropy', metrics=['accuracy'])"
   ]
  },
  {
   "cell_type": "markdown",
   "metadata": {},
   "source": [
    "**Training the PCA Model**"
   ]
  },
  {
   "cell_type": "code",
   "execution_count": 10,
   "metadata": {},
   "outputs": [
    {
     "name": "stdout",
     "output_type": "stream",
     "text": [
      "Epoch 1/20\n",
      "204/204 [==============================] - 0s 931us/step - loss: 0.2773 - accuracy: 0.9418 - val_loss: 0.0897 - val_accuracy: 0.9969\n",
      "Epoch 2/20\n",
      "204/204 [==============================] - 0s 687us/step - loss: 0.0503 - accuracy: 0.9983 - val_loss: 0.0274 - val_accuracy: 0.9988\n",
      "Epoch 3/20\n",
      "204/204 [==============================] - 0s 610us/step - loss: 0.0178 - accuracy: 0.9998 - val_loss: 0.0142 - val_accuracy: 0.9988\n",
      "Epoch 4/20\n",
      "204/204 [==============================] - 0s 606us/step - loss: 0.0092 - accuracy: 0.9998 - val_loss: 0.0096 - val_accuracy: 0.9988\n",
      "Epoch 5/20\n",
      "204/204 [==============================] - 0s 593us/step - loss: 0.0057 - accuracy: 0.9998 - val_loss: 0.0074 - val_accuracy: 0.9988\n",
      "Epoch 6/20\n",
      "204/204 [==============================] - 0s 587us/step - loss: 0.0039 - accuracy: 0.9998 - val_loss: 0.0060 - val_accuracy: 0.9988\n",
      "Epoch 7/20\n",
      "204/204 [==============================] - 0s 604us/step - loss: 0.0029 - accuracy: 0.9998 - val_loss: 0.0052 - val_accuracy: 0.9988\n",
      "Epoch 8/20\n",
      "204/204 [==============================] - 0s 670us/step - loss: 0.0022 - accuracy: 0.9998 - val_loss: 0.0045 - val_accuracy: 0.9988\n",
      "Epoch 9/20\n",
      "204/204 [==============================] - 0s 583us/step - loss: 0.0017 - accuracy: 0.9998 - val_loss: 0.0037 - val_accuracy: 0.9988\n",
      "Epoch 10/20\n",
      "204/204 [==============================] - 0s 599us/step - loss: 0.0014 - accuracy: 0.9998 - val_loss: 0.0032 - val_accuracy: 0.9988\n",
      "Epoch 11/20\n",
      "204/204 [==============================] - 0s 614us/step - loss: 0.0011 - accuracy: 0.9998 - val_loss: 0.0027 - val_accuracy: 0.9988\n",
      "Epoch 12/20\n",
      "204/204 [==============================] - 0s 629us/step - loss: 9.2917e-04 - accuracy: 0.9998 - val_loss: 0.0022 - val_accuracy: 0.9988\n",
      "Epoch 13/20\n",
      "204/204 [==============================] - 0s 626us/step - loss: 7.5256e-04 - accuracy: 1.0000 - val_loss: 0.0020 - val_accuracy: 0.9988\n",
      "Epoch 14/20\n",
      "204/204 [==============================] - 0s 606us/step - loss: 6.3580e-04 - accuracy: 0.9998 - val_loss: 0.0016 - val_accuracy: 0.9988\n",
      "Epoch 15/20\n",
      "204/204 [==============================] - 0s 592us/step - loss: 5.2777e-04 - accuracy: 1.0000 - val_loss: 0.0014 - val_accuracy: 0.9994\n",
      "Epoch 16/20\n",
      "204/204 [==============================] - 0s 601us/step - loss: 4.3748e-04 - accuracy: 1.0000 - val_loss: 0.0013 - val_accuracy: 0.9994\n",
      "Epoch 17/20\n",
      "204/204 [==============================] - 0s 607us/step - loss: 3.7754e-04 - accuracy: 1.0000 - val_loss: 0.0012 - val_accuracy: 0.9994\n",
      "Epoch 18/20\n",
      "204/204 [==============================] - 0s 598us/step - loss: 3.2442e-04 - accuracy: 1.0000 - val_loss: 9.9606e-04 - val_accuracy: 1.0000\n",
      "Epoch 19/20\n",
      "204/204 [==============================] - 0s 601us/step - loss: 2.7740e-04 - accuracy: 1.0000 - val_loss: 8.4044e-04 - val_accuracy: 1.0000\n",
      "Epoch 20/20\n",
      "204/204 [==============================] - 0s 617us/step - loss: 2.3678e-04 - accuracy: 1.0000 - val_loss: 7.6958e-04 - val_accuracy: 1.0000\n",
      "CPU times: total: 500 ms\n",
      "Wall time: 2.83 s\n"
     ]
    }
   ],
   "source": [
    "%%time \n",
    "\n",
    "# Train the model using the PCA-transformed data\n",
    "history_pca = pca_model.fit(X_train_pca, y_train_encoded, epochs=20, batch_size=32, validation_data=(X_test_pca, y_test_encoded))"
   ]
  },
  {
   "cell_type": "code",
   "execution_count": null,
   "metadata": {},
   "outputs": [
    {
     "name": "stdout",
     "output_type": "stream",
     "text": [
      "51/51 [==============================] - 0s 376us/step\n"
     ]
    },
    {
     "data": {
      "image/png": "[encoded data removed]",
      "text/plain": [
       "<Figure size 640x480 with 2 Axes>"
      ]
     },
     "metadata": {},
     "output_type": "display_data"
    }
   ],
   "source": [
    "# Predict on the PCA-transformed test set\n",
    "y_pred_pca = (pca_model.predict(X_test_pca) > 0.5).astype(\"int32\")  # Convert probabilities to binary labels\n",
    "\n",
    "# Compute the confusion matrix\n",
    "cm_pca = confusion_matrix(y_test_encoded, y_pred_pca)\n",
    "\n",
    "# Display the confusion matrix\n",
    "disp_pca = ConfusionMatrixDisplay(confusion_matrix=cm_pca, display_labels=['Edible', 'Poisonous'])\n",
    "disp_pca.plot(cmap=plt.cm.Blues)\n",
    "\n",
    "# Set title and show plot\n",
    "plt.title(\"Confusion Matrix - PCA Model\")\n",
    "plt.show()"
   ]
  },
  {
   "cell_type": "markdown",
   "metadata": {},
   "source": [
    "This is to test "
   ]
  },
  {
   "cell_type": "markdown",
   "metadata": {},
   "source": []
  }
 ],
 "metadata": {
  "kernelspec": {
   "display_name": "dtsc680",
   "language": "python",
   "name": "python3"
  },
  "language_info": {
   "codemirror_mode": {
    "name": "ipython",
    "version": 3
   },
   "file_extension": ".py",
   "mimetype": "text/x-python",
   "name": "python",
   "nbconvert_exporter": "python",
   "pygments_lexer": "ipython3",
   "version": "3.8.20"
  }
 },
 "nbformat": 4,
 "nbformat_minor": 2
}
